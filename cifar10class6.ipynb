{
 "cells": [
  {
   "cell_type": "markdown",
   "metadata": {},
   "source": [
    "# Setup"
   ]
  },
  {
   "cell_type": "code",
   "execution_count": 64,
   "metadata": {},
   "outputs": [
    {
     "name": "stdout",
     "output_type": "stream",
     "text": [
      "cpu\n"
     ]
    }
   ],
   "source": [
    "import os\n",
    "import torch\n",
    "import torch.nn as nn\n",
    "import torch.optim as optim\n",
    "import torch.nn.functional as F\n",
    "from torchvision import datasets\n",
    "import torchvision.transforms as transforms\n",
    "#from torch.utils.data.sampler import SubsetRandomSampler\n",
    "from torch.utils.data import sampler\n",
    "\n",
    "to_float = torch.float\n",
    "to_long = torch.long\n",
    "\n",
    "if torch.cuda.is_available():\n",
    "  device = torch.device('cuda')\n",
    "else:\n",
    "  device = torch.device('cpu')\n",
    "print(device)"
   ]
  },
  {
   "cell_type": "markdown",
   "metadata": {},
   "source": [
    "# 加载数据集"
   ]
  },
  {
   "cell_type": "code",
   "execution_count": 121,
   "metadata": {},
   "outputs": [],
   "source": [
    "train_data = datasets.ImageFolder('/home/dawn/文档/RecCifar10/cifar-10/train')\n",
    "test_data = datasets.ImageFolder('/home/dawn/文档/RecCifar10/cifar-10/test')"
   ]
  },
  {
   "cell_type": "markdown",
   "metadata": {},
   "source": [
    "# 随机提取6类"
   ]
  },
  {
   "cell_type": "code",
   "execution_count": 77,
   "metadata": {},
   "outputs": [
    {
     "name": "stdout",
     "output_type": "stream",
     "text": [
      "Extract classes:  tensor([5, 8, 3, 2, 0, 6])\n"
     ]
    }
   ],
   "source": [
    "from PIL import Image\n",
    "\n",
    "main_dir = os.getcwd()\n",
    "train_dir = main_dir + \"/extract_train\"\n",
    "test_dir = main_dir + \"/extract_test\"\n",
    "\n",
    "#建立存放数据集的文件夹\n",
    "if os.path.exists(train_dir) and os.path.exists(test_dir):\n",
    "    pass\n",
    "else:\n",
    "    os.mkdir(train_dir)\n",
    "    os.mkdir(test_dir)\n",
    "\n",
    "#生成6个随机数，用于提取数据集中的6类\n",
    "class_6 = torch.randperm(10)[:6]\n",
    "print(\"Extract classes: \", class_6)\n",
    "\n",
    "#提取6类并保存至新的文件夹\n",
    "for i in range(50000):\n",
    "    train_label = train_data.imgs[i][1]\n",
    "    \n",
    "    if train_label in class_6:\n",
    "        train_label_dir = train_dir + \"/\" + str(train_label)\n",
    "        if os.path.exists(train_label_dir):\n",
    "            pass\n",
    "        else:\n",
    "            os.mkdir(train_label_dir)\n",
    "        image_path = train_data.imgs[i][0]\n",
    "        image = Image.open(image_path)\n",
    "        save_path = train_label_dir + \"/\" + str(i) + \".jpg\"\n",
    "        image.save(save_path)\n",
    "\n",
    "for i in range(10000):\n",
    "    test_label = test_data.imgs[i][1]\n",
    "        \n",
    "    if test_label in class_6:\n",
    "        test_label_dir = test_dir + \"/\" + str(test_label)\n",
    "        if os.path.exists(test_label_dir):\n",
    "            pass\n",
    "        else:\n",
    "            os.mkdir(test_label_dir)\n",
    "        image_path = test_data.imgs[i][0]\n",
    "        image = Image.open(image_path)\n",
    "        save_path = test_label_dir + \"/\" + str(i) + \".jpg\"\n",
    "        image.save(save_path)"
   ]
  },
  {
   "cell_type": "code",
   "execution_count": 126,
   "metadata": {},
   "outputs": [],
   "source": [
    "import random\n",
    "\n",
    "#定义预处理操作\n",
    "transform = transforms.Compose([\n",
    "    transforms.ToTensor(),\n",
    "    transforms.Normalize(mean=[0.5], std=[0.5])\n",
    "    ])\n",
    "\n",
    "#数据集预处理\n",
    "train_data_ = datasets.ImageFolder(train_dir, transform=transform)\n",
    "test_data_ = datasets.ImageFolder(test_dir, transform=transform)\n",
    "\n",
    "#数据集采样、打包\n",
    "n_train = len(train_data_)  #30000\n",
    "\n",
    "split = 25000\n",
    "indices = list(range(n_train))\n",
    "random.shuffle(indices)\n",
    "\n",
    "train_loader = torch.utils.data.DataLoader(train_data_, batch_size=64, \n",
    "                                          sampler=sampler.SubsetRandomSampler(indices[:split]))\n",
    "valid_loader = torch.utils.data.DataLoader(train_data_, batch_size=64, \n",
    "                                        sampler=sampler.SubsetRandomSampler(indices[split:]))\n",
    "test_loader = torch.utils.data.DataLoader(test_data_, batch_size=64, shuffle=True)"
   ]
  },
  {
   "cell_type": "code",
   "execution_count": 124,
   "metadata": {},
   "outputs": [
    {
     "name": "stdout",
     "output_type": "stream",
     "text": [
      "391\n"
     ]
    }
   ],
   "source": [
    "print(len(train_loader))"
   ]
  },
  {
   "cell_type": "code",
   "execution_count": 127,
   "metadata": {},
   "outputs": [
    {
     "name": "stdout",
     "output_type": "stream",
     "text": [
      "Net(\n",
      "  (net): Sequential(\n",
      "    (0): Conv2d(3, 16, kernel_size=(3, 3), stride=(1, 1), padding=(1, 1))\n",
      "    (1): ReLU()\n",
      "    (2): MaxPool2d(kernel_size=2, stride=2, padding=0, dilation=1, ceil_mode=False)\n",
      "    (3): Conv2d(16, 32, kernel_size=(3, 3), stride=(1, 1), padding=(1, 1))\n",
      "    (4): ReLU()\n",
      "    (5): MaxPool2d(kernel_size=2, stride=2, padding=0, dilation=1, ceil_mode=False)\n",
      "    (6): Conv2d(32, 64, kernel_size=(3, 3), stride=(1, 1), padding=(1, 1))\n",
      "    (7): ReLU()\n",
      "    (8): MaxPool2d(kernel_size=2, stride=2, padding=0, dilation=1, ceil_mode=False)\n",
      "    (9): Flatten(start_dim=1, end_dim=-1)\n",
      "    (10): Linear(in_features=1024, out_features=500, bias=True)\n",
      "    (11): ReLU()\n",
      "    (12): Linear(in_features=500, out_features=6, bias=True)\n",
      "  )\n",
      ")\n"
     ]
    }
   ],
   "source": [
    "class Net(nn.Module):\n",
    "    def __init__(self):\n",
    "        super().__init__()\n",
    "        \n",
    "        self.net = nn.Sequential(\n",
    "            #3*32*32\n",
    "            nn.Conv2d(3, 16, 3, padding=1),\n",
    "            nn.ReLU(),\n",
    "            nn.MaxPool2d(2, 2),\n",
    "            \n",
    "            #16*16*16\n",
    "            nn.Conv2d(16, 32, 3, padding=1),\n",
    "            nn.ReLU(),\n",
    "            nn.MaxPool2d(2, 2),\n",
    "            \n",
    "            #32*8*8\n",
    "            nn.Conv2d(32, 64, 3, padding=1),\n",
    "            nn.ReLU(),\n",
    "            nn.MaxPool2d(2, 2),\n",
    "            \n",
    "            #64*4*4\n",
    "            nn.Flatten(),\n",
    "            nn.Linear(64*4*4, 500),\n",
    "            nn.ReLU(),\n",
    "            \n",
    "            nn.Linear(500, 6),\n",
    "        )\n",
    "        \n",
    "    def forward(self, x):\n",
    "        return self.net(x)\n",
    "model = Net()\n",
    "print(model)\n",
    "optimizer = optim.SGD(model.parameters(), lr=0.01)"
   ]
  },
  {
   "cell_type": "code",
   "execution_count": 123,
   "metadata": {},
   "outputs": [],
   "source": [
    "def check_accuracy_part34(loader, model):\n",
    "  #if loader.dataset.train:\n",
    "  #  print('Checking accuracy on validation set')\n",
    "  #else:\n",
    "  #  print('Checking accuracy on test set')   \n",
    "  num_correct = 0\n",
    "  num_samples = 0\n",
    "  model.eval()  # set model to evaluation mode\n",
    "  with torch.no_grad():\n",
    "    for x, y in loader:\n",
    "      x = x.to(device=device, dtype=to_float)  # move to device, e.g. GPU\n",
    "      y = y.to(device=device, dtype=to_long).clamp(max=5)\n",
    "      scores = model(x)\n",
    "      _, preds = scores.max(1)\n",
    "      num_correct += (preds == y).sum()\n",
    "      num_samples += preds.size(0)\n",
    "    acc = float(num_correct) / num_samples\n",
    "    print('Got %d / %d correct (%.2f)' % (num_correct, num_samples, 100 * acc))\n",
    "  return acc"
   ]
  },
  {
   "cell_type": "code",
   "execution_count": 128,
   "metadata": {},
   "outputs": [
    {
     "name": "stdout",
     "output_type": "stream",
     "text": [
      "Epoch: 0, Iteration: 0, loss = 1.7947\n",
      "Got 1038 / 5000 correct (20.76)\n",
      "\n",
      "Epoch: 0, Iteration: 100, loss = 1.7849\n",
      "Got 1552 / 5000 correct (31.04)\n",
      "\n",
      "Epoch: 0, Iteration: 200, loss = 1.7631\n",
      "Got 1748 / 5000 correct (34.96)\n",
      "\n",
      "Epoch: 0, Iteration: 300, loss = 1.6858\n",
      "Got 1672 / 5000 correct (33.44)\n",
      "\n",
      "Epoch: 1, Iteration: 400, loss = 1.5984\n",
      "Got 1816 / 5000 correct (36.32)\n",
      "\n",
      "Epoch: 1, Iteration: 500, loss = 1.4981\n",
      "Got 1890 / 5000 correct (37.80)\n",
      "\n",
      "Epoch: 1, Iteration: 600, loss = 1.4738\n",
      "Got 2005 / 5000 correct (40.10)\n",
      "\n",
      "Epoch: 1, Iteration: 700, loss = 1.4865\n",
      "Got 2096 / 5000 correct (41.92)\n",
      "\n",
      "Epoch: 2, Iteration: 800, loss = 1.4133\n",
      "Got 2086 / 5000 correct (41.72)\n",
      "\n",
      "Epoch: 2, Iteration: 900, loss = 1.3869\n",
      "Got 2181 / 5000 correct (43.62)\n",
      "\n",
      "Epoch: 2, Iteration: 1000, loss = 1.3730\n",
      "Got 2223 / 5000 correct (44.46)\n",
      "\n",
      "Epoch: 2, Iteration: 1100, loss = 1.2620\n",
      "Got 2307 / 5000 correct (46.14)\n",
      "\n",
      "Epoch: 3, Iteration: 1200, loss = 1.3099\n",
      "Got 2273 / 5000 correct (45.46)\n",
      "\n",
      "Epoch: 3, Iteration: 1300, loss = 1.3925\n",
      "Got 2347 / 5000 correct (46.94)\n",
      "\n",
      "Epoch: 3, Iteration: 1400, loss = 1.3212\n",
      "Got 2317 / 5000 correct (46.34)\n",
      "\n",
      "Epoch: 3, Iteration: 1500, loss = 1.2009\n",
      "Got 2429 / 5000 correct (48.58)\n",
      "\n",
      "Epoch: 4, Iteration: 1600, loss = 1.1680\n",
      "Got 2501 / 5000 correct (50.02)\n",
      "\n",
      "Epoch: 4, Iteration: 1700, loss = 1.2493\n",
      "Got 2476 / 5000 correct (49.52)\n",
      "\n",
      "Epoch: 4, Iteration: 1800, loss = 1.1059\n",
      "Got 2544 / 5000 correct (50.88)\n",
      "\n",
      "Epoch: 4, Iteration: 1900, loss = 1.2957\n",
      "Got 2609 / 5000 correct (52.18)\n",
      "\n",
      "Epoch: 4, Iteration: 1954, loss = 1.1031\n",
      "Got 2548 / 5000 correct (50.96)\n",
      "\n"
     ]
    }
   ],
   "source": [
    "epochs = 5\n",
    "num_prints = epochs * len(train_loader) // 100 + 1\n",
    "acc_history = torch.zeros(num_prints, dtype=to_float)\n",
    "iter_history = torch.zeros(num_prints, dtype=to_long)\n",
    "model = model.to(device=device)# move the model parameters to CPU/GPU\n",
    "for epoch in range(epochs):\n",
    "    for t, (x, y) in enumerate(train_loader):\n",
    "        model.train()\n",
    "        # Move the data to the proper device (GPU or CPU)\n",
    "        x = x.to(device=device, dtype=to_float)\n",
    "        y = y.to(device=device, dtype=to_long).clamp(max=5)\n",
    "        \n",
    "        # Forward pass: compute scores and loss\n",
    "        scores = model(x)\n",
    "        loss = F.cross_entropy(scores, y)\n",
    "        \n",
    "        optimizer.zero_grad()\n",
    "        \n",
    "        #Backwards pass: compute the gradient\n",
    "        loss.backward()\n",
    "        \n",
    "        #Update the parameters\n",
    "        optimizer.step()\n",
    "        \n",
    "        tt = t + epoch * len(train_loader)\n",
    "        \n",
    "        if tt % 100 == 0 or (epoch == epochs - 1 and t == len(train_loader) - 1):\n",
    "            print(\"Epoch: %d, Iteration: %d, loss = %.4f\" %(epoch, tt, loss.item()))\n",
    "            acc = check_accuracy_part34(valid_loader, model)\n",
    "            acc_history[tt // 100] = acc\n",
    "            iter_history[tt // 100] = tt\n",
    "            print()"
   ]
  },
  {
   "cell_type": "code",
   "execution_count": 129,
   "metadata": {},
   "outputs": [
    {
     "data": {
      "image/png": "[encoded data removed]",
      "text/plain": [
       "<Figure size 432x288 with 1 Axes>"
      ]
     },
     "metadata": {
      "needs_background": "light"
     },
     "output_type": "display_data"
    }
   ],
   "source": [
    "import matplotlib.pyplot as plt\n",
    "plt.title('Val accuracies')\n",
    "plt.plot(iter_history, acc_history, '-o')\n",
    "plt.xlabel('iterations')\n",
    "plt.ylabel('accuracy')\n",
    "plt.show()"
   ]
  }
 ],
 "metadata": {
  "kernelspec": {
   "display_name": "Python 3",
   "language": "python",
   "name": "python3"
  },
  "language_info": {
   "codemirror_mode": {
    "name": "ipython",
    "version": 3
   },
   "file_extension": ".py",
   "mimetype": "text/x-python",
   "name": "python",
   "nbconvert_exporter": "python",
   "pygments_lexer": "ipython3",
   "version": "3.8.3"
  }
 },
 "nbformat": 4,
 "nbformat_minor": 4
}
